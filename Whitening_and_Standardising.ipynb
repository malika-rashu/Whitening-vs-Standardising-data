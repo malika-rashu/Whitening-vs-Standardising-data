{
  "nbformat": 4,
  "nbformat_minor": 0,
  "metadata": {
    "colab": {
      "name": "Problem4.ipynb",
      "provenance": [],
      "collapsed_sections": [],
      "toc_visible": true
    },
    "kernelspec": {
      "name": "python3",
      "display_name": "Python 3"
    }
  },
  "cells": [
    {
      "cell_type": "markdown",
      "metadata": {
        "id": "95lY913xlv79"
      },
      "source": [
        "## Analyzing the Data"
      ]
    },
    {
      "cell_type": "markdown",
      "metadata": {
        "id": "O8rFMCPFl0oc"
      },
      "source": [
        "Importing the neccessary libraries"
      ]
    },
    {
      "cell_type": "code",
      "metadata": {
        "id": "67Xk5689JmW6"
      },
      "source": [
        "import numpy as np\n",
        "import pandas as pd\n",
        "import math\n",
        "import matplotlib.pyplot as plt\n",
        "#from sklearn.mixture import GaussianMixture\n",
        "#from scipy.stats import norm, multivariate_normal"
      ],
      "execution_count": null,
      "outputs": []
    },
    {
      "cell_type": "markdown",
      "metadata": {
        "id": "72Cz3KIgl5pb"
      },
      "source": [
        "Reading the data"
      ]
    },
    {
      "cell_type": "code",
      "metadata": {
        "id": "29aXDneZJxUY"
      },
      "source": [
        "data = pd.read_csv(\"heightWeightData.txt\" , names=[\"gender\",\"height\",\"weight\"])"
      ],
      "execution_count": null,
      "outputs": []
    },
    {
      "cell_type": "code",
      "metadata": {
        "colab": {
          "base_uri": "https://localhost:8080/",
          "height": 195
        },
        "id": "bgvksXHyX1kM",
        "outputId": "ae3a2acd-6a10-4c10-b4ff-97d24fdf23d3"
      },
      "source": [
        "data.head()"
      ],
      "execution_count": null,
      "outputs": [
        {
          "output_type": "execute_result",
          "data": {
            "text/html": [
              "<div>\n",
              "<style scoped>\n",
              "    .dataframe tbody tr th:only-of-type {\n",
              "        vertical-align: middle;\n",
              "    }\n",
              "\n",
              "    .dataframe tbody tr th {\n",
              "        vertical-align: top;\n",
              "    }\n",
              "\n",
              "    .dataframe thead th {\n",
              "        text-align: right;\n",
              "    }\n",
              "</style>\n",
              "<table border=\"1\" class=\"dataframe\">\n",
              "  <thead>\n",
              "    <tr style=\"text-align: right;\">\n",
              "      <th></th>\n",
              "      <th>gender</th>\n",
              "      <th>height</th>\n",
              "      <th>weight</th>\n",
              "    </tr>\n",
              "  </thead>\n",
              "  <tbody>\n",
              "    <tr>\n",
              "      <th>0</th>\n",
              "      <td>1</td>\n",
              "      <td>67</td>\n",
              "      <td>125</td>\n",
              "    </tr>\n",
              "    <tr>\n",
              "      <th>1</th>\n",
              "      <td>2</td>\n",
              "      <td>68</td>\n",
              "      <td>140</td>\n",
              "    </tr>\n",
              "    <tr>\n",
              "      <th>2</th>\n",
              "      <td>2</td>\n",
              "      <td>67</td>\n",
              "      <td>142</td>\n",
              "    </tr>\n",
              "    <tr>\n",
              "      <th>3</th>\n",
              "      <td>2</td>\n",
              "      <td>60</td>\n",
              "      <td>110</td>\n",
              "    </tr>\n",
              "    <tr>\n",
              "      <th>4</th>\n",
              "      <td>2</td>\n",
              "      <td>64</td>\n",
              "      <td>97</td>\n",
              "    </tr>\n",
              "  </tbody>\n",
              "</table>\n",
              "</div>"
            ],
            "text/plain": [
              "   gender  height  weight\n",
              "0       1      67     125\n",
              "1       2      68     140\n",
              "2       2      67     142\n",
              "3       2      60     110\n",
              "4       2      64      97"
            ]
          },
          "metadata": {
            "tags": []
          },
          "execution_count": 59
        }
      ]
    },
    {
      "cell_type": "markdown",
      "metadata": {
        "id": "ucJfNNfvmIdt"
      },
      "source": [
        "Reading the data for males from our original data"
      ]
    },
    {
      "cell_type": "code",
      "metadata": {
        "id": "4DgMZ9SUX5rB"
      },
      "source": [
        "male_data = data[data['gender'] == 1]"
      ],
      "execution_count": null,
      "outputs": []
    },
    {
      "cell_type": "code",
      "metadata": {
        "colab": {
          "base_uri": "https://localhost:8080/",
          "height": 195
        },
        "id": "aedzia64X_oj",
        "outputId": "11b9a5ce-75d0-42e9-a4e0-1148a1e5fdbb"
      },
      "source": [
        "male_data.head()"
      ],
      "execution_count": null,
      "outputs": [
        {
          "output_type": "execute_result",
          "data": {
            "text/html": [
              "<div>\n",
              "<style scoped>\n",
              "    .dataframe tbody tr th:only-of-type {\n",
              "        vertical-align: middle;\n",
              "    }\n",
              "\n",
              "    .dataframe tbody tr th {\n",
              "        vertical-align: top;\n",
              "    }\n",
              "\n",
              "    .dataframe thead th {\n",
              "        text-align: right;\n",
              "    }\n",
              "</style>\n",
              "<table border=\"1\" class=\"dataframe\">\n",
              "  <thead>\n",
              "    <tr style=\"text-align: right;\">\n",
              "      <th></th>\n",
              "      <th>gender</th>\n",
              "      <th>height</th>\n",
              "      <th>weight</th>\n",
              "    </tr>\n",
              "  </thead>\n",
              "  <tbody>\n",
              "    <tr>\n",
              "      <th>0</th>\n",
              "      <td>1</td>\n",
              "      <td>67</td>\n",
              "      <td>125</td>\n",
              "    </tr>\n",
              "    <tr>\n",
              "      <th>6</th>\n",
              "      <td>1</td>\n",
              "      <td>79</td>\n",
              "      <td>210</td>\n",
              "    </tr>\n",
              "    <tr>\n",
              "      <th>8</th>\n",
              "      <td>1</td>\n",
              "      <td>71</td>\n",
              "      <td>150</td>\n",
              "    </tr>\n",
              "    <tr>\n",
              "      <th>11</th>\n",
              "      <td>1</td>\n",
              "      <td>71</td>\n",
              "      <td>175</td>\n",
              "    </tr>\n",
              "    <tr>\n",
              "      <th>12</th>\n",
              "      <td>1</td>\n",
              "      <td>72</td>\n",
              "      <td>145</td>\n",
              "    </tr>\n",
              "  </tbody>\n",
              "</table>\n",
              "</div>"
            ],
            "text/plain": [
              "    gender  height  weight\n",
              "0        1      67     125\n",
              "6        1      79     210\n",
              "8        1      71     150\n",
              "11       1      71     175\n",
              "12       1      72     145"
            ]
          },
          "metadata": {
            "tags": []
          },
          "execution_count": 61
        }
      ]
    },
    {
      "cell_type": "markdown",
      "metadata": {
        "id": "ZUjFC7kMmaWY"
      },
      "source": [
        "Pre-calculating some useful information "
      ]
    },
    {
      "cell_type": "code",
      "metadata": {
        "id": "4UUEoHg2y1pE"
      },
      "source": [
        "maxheight = max(male_data['height'])\r\n",
        "minheight = min(male_data['height'])\r\n",
        "maxweight = max(male_data['weight'])\r\n",
        "minweight = min(male_data['weight'])"
      ],
      "execution_count": null,
      "outputs": []
    },
    {
      "cell_type": "markdown",
      "metadata": {
        "id": "lg3I458Cmfee"
      },
      "source": [
        "Our data frame for the male data is stored in the intermediateMatrix"
      ]
    },
    {
      "cell_type": "code",
      "metadata": {
        "id": "FXPIyHNXYMyH"
      },
      "source": [
        "intermediateMatrix = pd.DataFrame(male_data,columns=['height','weight'])"
      ],
      "execution_count": null,
      "outputs": []
    },
    {
      "cell_type": "code",
      "metadata": {
        "colab": {
          "base_uri": "https://localhost:8080/",
          "height": 195
        },
        "id": "MqU6DwixYZCn",
        "outputId": "3212f2e9-cdef-45b4-9e1b-ffbf96ed21b1"
      },
      "source": [
        "intermediateMatrix.head()"
      ],
      "execution_count": null,
      "outputs": [
        {
          "output_type": "execute_result",
          "data": {
            "text/html": [
              "<div>\n",
              "<style scoped>\n",
              "    .dataframe tbody tr th:only-of-type {\n",
              "        vertical-align: middle;\n",
              "    }\n",
              "\n",
              "    .dataframe tbody tr th {\n",
              "        vertical-align: top;\n",
              "    }\n",
              "\n",
              "    .dataframe thead th {\n",
              "        text-align: right;\n",
              "    }\n",
              "</style>\n",
              "<table border=\"1\" class=\"dataframe\">\n",
              "  <thead>\n",
              "    <tr style=\"text-align: right;\">\n",
              "      <th></th>\n",
              "      <th>height</th>\n",
              "      <th>weight</th>\n",
              "    </tr>\n",
              "  </thead>\n",
              "  <tbody>\n",
              "    <tr>\n",
              "      <th>0</th>\n",
              "      <td>67</td>\n",
              "      <td>125</td>\n",
              "    </tr>\n",
              "    <tr>\n",
              "      <th>6</th>\n",
              "      <td>79</td>\n",
              "      <td>210</td>\n",
              "    </tr>\n",
              "    <tr>\n",
              "      <th>8</th>\n",
              "      <td>71</td>\n",
              "      <td>150</td>\n",
              "    </tr>\n",
              "    <tr>\n",
              "      <th>11</th>\n",
              "      <td>71</td>\n",
              "      <td>175</td>\n",
              "    </tr>\n",
              "    <tr>\n",
              "      <th>12</th>\n",
              "      <td>72</td>\n",
              "      <td>145</td>\n",
              "    </tr>\n",
              "  </tbody>\n",
              "</table>\n",
              "</div>"
            ],
            "text/plain": [
              "    height  weight\n",
              "0       67     125\n",
              "6       79     210\n",
              "8       71     150\n",
              "11      71     175\n",
              "12      72     145"
            ]
          },
          "metadata": {
            "tags": []
          },
          "execution_count": 64
        }
      ]
    },
    {
      "cell_type": "markdown",
      "metadata": {
        "id": "qISNTrv8ms6N"
      },
      "source": [
        "Creating numpy arrays for heights and weights from our dataframe"
      ]
    },
    {
      "cell_type": "code",
      "metadata": {
        "colab": {
          "base_uri": "https://localhost:8080/"
        },
        "id": "2xP2rNclLdQT",
        "outputId": "a1ac9e06-fb6f-456b-c495-a3bc2bcb3de5"
      },
      "source": [
        "height = intermediateMatrix['height'].to_numpy()\r\n",
        "print(height)"
      ],
      "execution_count": null,
      "outputs": [
        {
          "output_type": "stream",
          "text": [
            "[67 79 71 71 72 71 70 72 71 71 75 65 75 68 73 68 74 73 72 75 78 73 70 69\n",
            " 72 70 72 66 68 67 69 71 70 73 74 79 71 73 70 75 67 69 69 73 74 65 73 74\n",
            " 72 73 74 75 68 72 71 66 77 70 71 72 69 73 73 71 73 69 76 71 73 79 75 71\n",
            " 70]\n"
          ],
          "name": "stdout"
        }
      ]
    },
    {
      "cell_type": "code",
      "metadata": {
        "colab": {
          "base_uri": "https://localhost:8080/"
        },
        "id": "-lgCdrlFLzP7",
        "outputId": "d0d30467-def4-4c58-f8b8-ab31ef0e87b6"
      },
      "source": [
        "weight = intermediateMatrix['weight'].to_numpy()\r\n",
        "print(weight)"
      ],
      "execution_count": null,
      "outputs": [
        {
          "output_type": "stream",
          "text": [
            "[125 210 150 175 145 152 143 160 185 155 200 150 240 135 178 190 180 165\n",
            " 210 225 190 280 195 168 215 185 178 145 135 145 193 148 167 250 280 180\n",
            " 175 125 156 185 140 155 170 247 172 147 165 180 182 160 190 180 165 160\n",
            " 174 150 245 150 135 160 155 155 160 162 205 180 185 178 165 165 160 170\n",
            " 185]\n"
          ],
          "name": "stdout"
        }
      ]
    },
    {
      "cell_type": "markdown",
      "metadata": {
        "id": "hDtXudolm0xZ"
      },
      "source": [
        "Calculating the covariance Matrix "
      ]
    },
    {
      "cell_type": "code",
      "metadata": {
        "colab": {
          "base_uri": "https://localhost:8080/"
        },
        "id": "tlfnnHPOYQHv",
        "outputId": "0433bb4f-85bd-4481-dbfa-0c0951ce87ca"
      },
      "source": [
        "covMatrix = np.cov(intermediateMatrix,rowvar=0)\r\n",
        "print(covMatrix)"
      ],
      "execution_count": null,
      "outputs": [
        {
          "output_type": "stream",
          "text": [
            "[[   9.78386606   47.5890411 ]\n",
            " [  47.5890411  1049.65639269]]\n"
          ],
          "name": "stdout"
        }
      ]
    },
    {
      "cell_type": "markdown",
      "metadata": {
        "id": "dnLYEmTSm7w9"
      },
      "source": [
        "Calculating the mean vectors "
      ]
    },
    {
      "cell_type": "code",
      "metadata": {
        "colab": {
          "base_uri": "https://localhost:8080/"
        },
        "id": "fd5_3IylYggt",
        "outputId": "f36f069e-49b9-4432-b2e0-3fd504415759"
      },
      "source": [
        "mean1, mean2 = np.mean(intermediateMatrix,axis=0)\r\n",
        "meanmatrix = np.array([mean1, mean2])\r\n",
        "print(meanmatrix)"
      ],
      "execution_count": null,
      "outputs": [
        {
          "output_type": "stream",
          "text": [
            "[ 71.65753425 175.61643836]\n"
          ],
          "name": "stdout"
        }
      ]
    },
    {
      "cell_type": "markdown",
      "metadata": {
        "id": "oFTqek36nFQV"
      },
      "source": [
        "Calculating the inverse of the covariance matrix "
      ]
    },
    {
      "cell_type": "code",
      "metadata": {
        "colab": {
          "base_uri": "https://localhost:8080/"
        },
        "id": "Gdr--rwsblBj",
        "outputId": "e794d755-3df5-4cc3-a385-706994b6301b"
      },
      "source": [
        "inverseMat = np.linalg.inv(covMatrix) \r\n",
        "print(inverseMat)"
      ],
      "execution_count": null,
      "outputs": [
        {
          "output_type": "stream",
          "text": [
            "[[ 0.13112541 -0.00594493]\n",
            " [-0.00594493  0.00122222]]\n"
          ],
          "name": "stdout"
        }
      ]
    },
    {
      "cell_type": "markdown",
      "metadata": {
        "id": "1rlxAobtnObQ"
      },
      "source": [
        "## Writing our own 2D - Gaussian function  "
      ]
    },
    {
      "cell_type": "code",
      "metadata": {
        "id": "KhRgaG6kgZlW"
      },
      "source": [
        "def Gaussian2d(x,y,meanmatrix,inverseMat,covMatrix):\r\n",
        "  X = [x,y] # (1,2) input vector \r\n",
        "  \r\n",
        "  sigmadet = np.linalg.det(covMatrix) \r\n",
        "  rootsigmadet = math.sqrt(sigmadet)\r\n",
        "\r\n",
        "  constantTerm = 0.5/(math.pi * rootsigmadet) \r\n",
        "\r\n",
        "  # temp = X - mu \r\n",
        "  temp = (X - meanmatrix).T \r\n",
        "  tempT = temp.T  \r\n",
        "\r\n",
        "  matrixmul = np.dot(np.dot(tempT,inverseMat),temp) \r\n",
        "  expTerm = math.exp((-0.5) * matrixmul)\r\n",
        "\r\n",
        "  output = constantTerm * expTerm\r\n",
        "\r\n",
        "  return output "
      ],
      "execution_count": null,
      "outputs": []
    },
    {
      "cell_type": "markdown",
      "metadata": {
        "id": "gyHKDmienhRD"
      },
      "source": [
        "Testing whether our gaussian function works correctly or not for a test input"
      ]
    },
    {
      "cell_type": "code",
      "metadata": {
        "colab": {
          "base_uri": "https://localhost:8080/"
        },
        "id": "ubdxQEcJpkOB",
        "outputId": "2505daa6-489d-45b6-c9a4-74228838fadc"
      },
      "source": [
        "output = Gaussian2d(79,210,meanmatrix,inverseMat,covMatrix) \r\n",
        "print(\"The output is : \", output)   "
      ],
      "execution_count": null,
      "outputs": [
        {
          "output_type": "stream",
          "text": [
            "The output is :  0.00011301314491292489\n"
          ],
          "name": "stdout"
        }
      ]
    },
    {
      "cell_type": "markdown",
      "metadata": {
        "id": "FCmwUGThnwO5"
      },
      "source": [
        "## Plotting our data "
      ]
    },
    {
      "cell_type": "markdown",
      "metadata": {
        "id": "mpJ_1mDUn0_D"
      },
      "source": [
        "Creating our x , y and z vectors which would be useful for our plotting "
      ]
    },
    {
      "cell_type": "code",
      "metadata": {
        "id": "fdTzouVZE09C"
      },
      "source": [
        "x1 = np.linspace(65,79,155)  \r\n",
        "y1 = np.linspace(125,280,155) \r\n",
        "\r\n",
        "z1 = np.zeros(shape = (x1.shape[0],y1.shape[0])) \r\n",
        "\r\n",
        "for i in range (x1.shape[0]) :\r\n",
        "  for j in range (y1.shape[0]) : \r\n",
        "    z1[j][i] = Gaussian2d(x1[i],y1[j],meanmatrix,inverseMat,covMatrix) "
      ],
      "execution_count": null,
      "outputs": []
    },
    {
      "cell_type": "markdown",
      "metadata": {
        "id": "fN5bFmemoTLC"
      },
      "source": [
        "Plotting the ellipses of the gaussian over the scatter plot of our Height / Weight Data"
      ]
    },
    {
      "cell_type": "code",
      "metadata": {
        "colab": {
          "base_uri": "https://localhost:8080/",
          "height": 295
        },
        "id": "8FWDMvqUHkYR",
        "outputId": "e87ebdd9-6efd-480c-8c47-5220faf81c84"
      },
      "source": [
        "fig = plt.figure()\r\n",
        "plt.contour(x1,y1,z1)\r\n",
        "plt.scatter(male_data['height'],male_data['weight'])\r\n",
        "plt.title(\"raw data\") #title\r\n",
        "plt.xlabel(\"height\") #x label\r\n",
        "plt.ylabel(\"weight\") #y label\r\n",
        "for i in range(1,74):\r\n",
        "  plt.annotate(i,(height[i-1],weight[i-1]))\r\n",
        "plt.show()"
      ],
      "execution_count": null,
      "outputs": [
        {
          "output_type": "display_data",
          "data": {
            "image/png": "[encoded data removed]",
            "text/plain": [
              "<Figure size 432x288 with 1 Axes>"
            ]
          },
          "metadata": {
            "tags": [],
            "needs_background": "light"
          }
        }
      ]
    },
    {
      "cell_type": "markdown",
      "metadata": {
        "id": "ostqdUHAJv4G"
      },
      "source": [
        "## Standardizing the Data"
      ]
    },
    {
      "cell_type": "code",
      "metadata": {
        "id": "8Iliy4bnHFXS",
        "colab": {
          "base_uri": "https://localhost:8080/"
        },
        "outputId": "031dd173-954a-4efc-aa20-2c7bd267f2d9"
      },
      "source": [
        "stdheight = (height - mean1)/np.std(height) \r\n",
        "print(stdheight)"
      ],
      "execution_count": null,
      "outputs": [
        {
          "output_type": "stream",
          "text": [
            "[-1.49932571  2.36364289 -0.21166951 -0.21166951  0.11024454 -0.21166951\n",
            " -0.53358356  0.11024454 -0.21166951 -0.21166951  1.07598669 -2.14315382\n",
            "  1.07598669 -1.17741166  0.43215859 -1.17741166  0.75407264  0.43215859\n",
            "  0.11024454  1.07598669  2.04172884  0.43215859 -0.53358356 -0.85549761\n",
            "  0.11024454 -0.53358356  0.11024454 -1.82123976 -1.17741166 -1.49932571\n",
            " -0.85549761 -0.21166951 -0.53358356  0.43215859  0.75407264  2.36364289\n",
            " -0.21166951  0.43215859 -0.53358356  1.07598669 -1.49932571 -0.85549761\n",
            " -0.85549761  0.43215859  0.75407264 -2.14315382  0.43215859  0.75407264\n",
            "  0.11024454  0.43215859  0.75407264  1.07598669 -1.17741166  0.11024454\n",
            " -0.21166951 -1.82123976  1.71981479 -0.53358356 -0.21166951  0.11024454\n",
            " -0.85549761  0.43215859  0.43215859 -0.21166951  0.43215859 -0.85549761\n",
            "  1.39790074 -0.21166951  0.43215859  2.36364289  1.07598669 -0.21166951\n",
            " -0.53358356]\n"
          ],
          "name": "stdout"
        }
      ]
    },
    {
      "cell_type": "code",
      "metadata": {
        "colab": {
          "base_uri": "https://localhost:8080/"
        },
        "id": "ySq2LXVhJ1C0",
        "outputId": "5bb56d9c-f465-4baf-d960-426f18ff8d8b"
      },
      "source": [
        "stdweight = (weight - mean2)/np.std(weight)\r\n",
        "print(stdweight)"
      ],
      "execution_count": null,
      "outputs": [
        {
          "output_type": "stream",
          "text": [
            "[-1.57312483  1.06861795 -0.79614166 -0.01915849 -0.9515383  -0.73398301\n",
            " -1.01369695 -0.48534839  0.29163478 -0.64074503  0.75782468 -0.79614166\n",
            "  2.00099776 -1.26233156  0.07407949  0.44703141  0.13623815 -0.32995176\n",
            "  1.06861795  1.53480786  0.44703141  3.24417083  0.60242805 -0.23671378\n",
            "  1.22401459  0.29163478  0.07407949 -0.9515383  -1.26233156 -0.9515383\n",
            "  0.54026939 -0.85830032 -0.2677931   2.31179103  3.24417083  0.13623815\n",
            " -0.01915849 -1.57312483 -0.6096657   0.29163478 -1.10693493 -0.64074503\n",
            " -0.17455512  2.21855305 -0.11239647 -0.88937964 -0.32995176  0.13623815\n",
            "  0.1983968  -0.48534839  0.44703141  0.13623815 -0.32995176 -0.48534839\n",
            " -0.05023782 -0.79614166  2.15639439 -0.79614166 -1.26233156 -0.48534839\n",
            " -0.64074503 -0.64074503 -0.48534839 -0.42318974  0.91322132  0.13623815\n",
            "  0.29163478  0.07407949 -0.32995176 -0.32995176 -0.48534839 -0.17455512\n",
            "  0.29163478]\n"
          ],
          "name": "stdout"
        }
      ]
    },
    {
      "cell_type": "code",
      "metadata": {
        "id": "8wsBQbiVO2vI",
        "colab": {
          "base_uri": "https://localhost:8080/"
        },
        "outputId": "f2245ea8-968d-4f4c-81d1-49f07d625804"
      },
      "source": [
        "std_male_data = np.array([stdheight,stdweight]).T\r\n",
        "print(std_male_data)"
      ],
      "execution_count": null,
      "outputs": [
        {
          "output_type": "stream",
          "text": [
            "[[-1.49932571 -1.57312483]\n",
            " [ 2.36364289  1.06861795]\n",
            " [-0.21166951 -0.79614166]\n",
            " [-0.21166951 -0.01915849]\n",
            " [ 0.11024454 -0.9515383 ]\n",
            " [-0.21166951 -0.73398301]\n",
            " [-0.53358356 -1.01369695]\n",
            " [ 0.11024454 -0.48534839]\n",
            " [-0.21166951  0.29163478]\n",
            " [-0.21166951 -0.64074503]\n",
            " [ 1.07598669  0.75782468]\n",
            " [-2.14315382 -0.79614166]\n",
            " [ 1.07598669  2.00099776]\n",
            " [-1.17741166 -1.26233156]\n",
            " [ 0.43215859  0.07407949]\n",
            " [-1.17741166  0.44703141]\n",
            " [ 0.75407264  0.13623815]\n",
            " [ 0.43215859 -0.32995176]\n",
            " [ 0.11024454  1.06861795]\n",
            " [ 1.07598669  1.53480786]\n",
            " [ 2.04172884  0.44703141]\n",
            " [ 0.43215859  3.24417083]\n",
            " [-0.53358356  0.60242805]\n",
            " [-0.85549761 -0.23671378]\n",
            " [ 0.11024454  1.22401459]\n",
            " [-0.53358356  0.29163478]\n",
            " [ 0.11024454  0.07407949]\n",
            " [-1.82123976 -0.9515383 ]\n",
            " [-1.17741166 -1.26233156]\n",
            " [-1.49932571 -0.9515383 ]\n",
            " [-0.85549761  0.54026939]\n",
            " [-0.21166951 -0.85830032]\n",
            " [-0.53358356 -0.2677931 ]\n",
            " [ 0.43215859  2.31179103]\n",
            " [ 0.75407264  3.24417083]\n",
            " [ 2.36364289  0.13623815]\n",
            " [-0.21166951 -0.01915849]\n",
            " [ 0.43215859 -1.57312483]\n",
            " [-0.53358356 -0.6096657 ]\n",
            " [ 1.07598669  0.29163478]\n",
            " [-1.49932571 -1.10693493]\n",
            " [-0.85549761 -0.64074503]\n",
            " [-0.85549761 -0.17455512]\n",
            " [ 0.43215859  2.21855305]\n",
            " [ 0.75407264 -0.11239647]\n",
            " [-2.14315382 -0.88937964]\n",
            " [ 0.43215859 -0.32995176]\n",
            " [ 0.75407264  0.13623815]\n",
            " [ 0.11024454  0.1983968 ]\n",
            " [ 0.43215859 -0.48534839]\n",
            " [ 0.75407264  0.44703141]\n",
            " [ 1.07598669  0.13623815]\n",
            " [-1.17741166 -0.32995176]\n",
            " [ 0.11024454 -0.48534839]\n",
            " [-0.21166951 -0.05023782]\n",
            " [-1.82123976 -0.79614166]\n",
            " [ 1.71981479  2.15639439]\n",
            " [-0.53358356 -0.79614166]\n",
            " [-0.21166951 -1.26233156]\n",
            " [ 0.11024454 -0.48534839]\n",
            " [-0.85549761 -0.64074503]\n",
            " [ 0.43215859 -0.64074503]\n",
            " [ 0.43215859 -0.48534839]\n",
            " [-0.21166951 -0.42318974]\n",
            " [ 0.43215859  0.91322132]\n",
            " [-0.85549761  0.13623815]\n",
            " [ 1.39790074  0.29163478]\n",
            " [-0.21166951  0.07407949]\n",
            " [ 0.43215859 -0.32995176]\n",
            " [ 2.36364289 -0.32995176]\n",
            " [ 1.07598669 -0.48534839]\n",
            " [-0.21166951 -0.17455512]\n",
            " [-0.53358356  0.29163478]]\n"
          ],
          "name": "stdout"
        }
      ]
    },
    {
      "cell_type": "markdown",
      "metadata": {
        "id": "sMVXdxBurunR"
      },
      "source": [
        "Calculating the mean and covariance matrix of the standardized data"
      ]
    },
    {
      "cell_type": "code",
      "metadata": {
        "colab": {
          "base_uri": "https://localhost:8080/"
        },
        "id": "Bh2Yk3McNURg",
        "outputId": "2b3185f0-3178-4343-fe6e-15b5f00c3017"
      },
      "source": [
        "stdmeanmatrix = np.array([0,0])\r\n",
        "print(stdmeanmatrix)\r\n",
        "stdcovMatrix = np.cov(std_male_data,rowvar=0)\r\n",
        "print(stdcovMatrix)\r\n",
        "stdinverse = np.linalg.inv(stdcovMatrix) \r\n",
        "print(stdinverse)"
      ],
      "execution_count": null,
      "outputs": [
        {
          "output_type": "stream",
          "text": [
            "[0 0]\n",
            "[[1.01388889 0.47612226]\n",
            " [0.47612226 1.01388889]]\n",
            "[[ 1.26533931 -0.59420339]\n",
            " [-0.59420339  1.26533931]]\n"
          ],
          "name": "stdout"
        }
      ]
    },
    {
      "cell_type": "markdown",
      "metadata": {
        "id": "eZRryxpN1H7U"
      },
      "source": [
        "## Plotting the Standardized data"
      ]
    },
    {
      "cell_type": "code",
      "metadata": {
        "id": "EPLjZFb1J4GL",
        "colab": {
          "base_uri": "https://localhost:8080/"
        },
        "outputId": "6a57655a-f8ab-418b-b8cd-dfee8e4e85b5"
      },
      "source": [
        "x2 = np.linspace(-2.2,3,100)  \r\n",
        "y2 = np.linspace(-2,3.5,100) \r\n",
        "\r\n",
        "z2 = np.zeros(shape = (x2.shape[0],y2.shape[0])) \r\n",
        "\r\n",
        "for i in range (x2.shape[0]) :\r\n",
        "  for j in range (y2.shape[0]) : \r\n",
        "    z2[j][i] = Gaussian2d(x2[i],y2[j],stdmeanmatrix,stdinverse,stdcovMatrix) \r\n",
        "print(z2)"
      ],
      "execution_count": null,
      "outputs": [
        {
          "output_type": "stream",
          "text": [
            "[[9.04621912e-03 9.81976351e-03 1.06223072e-02 ... 2.25943678e-06\n",
            "  1.74812507e-06 1.34781011e-06]\n",
            " [9.66356480e-03 1.05081031e-02 1.13866294e-02 ... 2.85571482e-06\n",
            "  2.21329946e-06 1.70942252e-06]\n",
            " [1.02828037e-02 1.12008644e-02 1.21583722e-02 ... 3.59528562e-06\n",
            "  2.79133380e-06 2.15960364e-06]\n",
            " ...\n",
            " [6.92682840e-08 8.89636794e-08 1.13860987e-07 ... 2.10558380e-04\n",
            "  1.92747706e-04 1.75828717e-04]\n",
            " [5.06623045e-08 6.51802893e-08 8.35663679e-08 ... 1.82207993e-04\n",
            "  1.67084878e-04 1.52683030e-04]\n",
            " [3.69096030e-08 4.75689703e-08 6.10930811e-08 ... 1.57060233e-04\n",
            "  1.44274307e-04 1.32067408e-04]]\n"
          ],
          "name": "stdout"
        }
      ]
    },
    {
      "cell_type": "code",
      "metadata": {
        "colab": {
          "base_uri": "https://localhost:8080/",
          "height": 295
        },
        "id": "e_g0IHfHLJ4o",
        "outputId": "4d9ad695-a3fe-43ab-d768-7eeeeb32a8a5"
      },
      "source": [
        "fig = plt.figure()\r\n",
        "plt.contour(x2,y2,z2)\r\n",
        "plt.scatter(stdheight,stdweight)\r\n",
        "plt.title(\"standardised data\") #title\r\n",
        "plt.xlabel(\"standardised height\") #x label\r\n",
        "plt.ylabel(\"standardised weight\") #y label\r\n",
        "for i in range(1,74):\r\n",
        " plt.annotate(i,(stdheight[i-1],stdweight[i-1]))\r\n",
        "plt.show()"
      ],
      "execution_count": null,
      "outputs": [
        {
          "output_type": "display_data",
          "data": {
            "image/png": "[encoded data removed]",
            "text/plain": [
              "<Figure size 432x288 with 1 Axes>"
            ]
          },
          "metadata": {
            "tags": [],
            "needs_background": "light"
          }
        }
      ]
    },
    {
      "cell_type": "markdown",
      "metadata": {
        "id": "S22syNQmYBRV"
      },
      "source": [
        "## Whitening of the data"
      ]
    },
    {
      "cell_type": "markdown",
      "metadata": {
        "id": "BvLbukT-1fAC"
      },
      "source": [
        "Calculating the eigen-value and eigen-vector matrices "
      ]
    },
    {
      "cell_type": "code",
      "metadata": {
        "colab": {
          "base_uri": "https://localhost:8080/"
        },
        "id": "LcGdAWL4ZYzE",
        "outputId": "4893e0f5-09a4-4020-f3ac-cbc674cfd065"
      },
      "source": [
        "eigvals, eigvects = np.linalg.eig(covMatrix)\r\n",
        "print(eigvals)\r\n",
        "print (eigvals.shape)\r\n",
        "print(eigvects)\r\n",
        "print(eigvects.shape)"
      ],
      "execution_count": null,
      "outputs": [
        {
          "output_type": "stream",
          "text": [
            "[   7.61052906 1051.8297297 ]\n",
            "(2,)\n",
            "[[-0.99895881 -0.0456213 ]\n",
            " [ 0.0456213  -0.99895881]]\n",
            "(2, 2)\n"
          ],
          "name": "stdout"
        }
      ]
    },
    {
      "cell_type": "code",
      "metadata": {
        "colab": {
          "base_uri": "https://localhost:8080/"
        },
        "id": "hy0xwSe1ZfbL",
        "outputId": "10d0fe0f-1064-4fb4-b8d4-39b9132745db"
      },
      "source": [
        "eigvalmat = np.array([[eigvals[0],0], [0,eigvals[1]]])\r\n",
        "print(eigvalmat) "
      ],
      "execution_count": null,
      "outputs": [
        {
          "output_type": "stream",
          "text": [
            "[[   7.61052906    0.        ]\n",
            " [   0.         1051.8297297 ]]\n"
          ],
          "name": "stdout"
        }
      ]
    },
    {
      "cell_type": "markdown",
      "metadata": {
        "id": "PZosLMkh1up_"
      },
      "source": [
        "Calculating the inverse half power matrix of the eigen-value matrix "
      ]
    },
    {
      "cell_type": "code",
      "metadata": {
        "colab": {
          "base_uri": "https://localhost:8080/"
        },
        "id": "VbGTrH7GYDM0",
        "outputId": "e3ccd9cf-f046-4a4f-ba23-58885ec42cdf"
      },
      "source": [
        "eigvalpow_half=np.zeros(shape = (2,2))\r\n",
        "for i in range(2):\r\n",
        "  eigvalpow_half[i][i]=pow(eigvalmat[i][i],-0.5)\r\n",
        "print(eigvalpow_half)"
      ],
      "execution_count": null,
      "outputs": [
        {
          "output_type": "stream",
          "text": [
            "[[0.36248712 0.        ]\n",
            " [0.         0.03083382]]\n"
          ],
          "name": "stdout"
        }
      ]
    },
    {
      "cell_type": "markdown",
      "metadata": {
        "id": "NhBGCm3M19DU"
      },
      "source": [
        "Doing the necessary matrix multiplications to find the whitened height and weight"
      ]
    },
    {
      "cell_type": "code",
      "metadata": {
        "colab": {
          "base_uri": "https://localhost:8080/"
        },
        "id": "6i02dMTjbAkc",
        "outputId": "56d37de3-cbec-4f73-ab38-cab39df0a7de"
      },
      "source": [
        "UT = eigvects.T\r\n",
        "whiteMat = np.matmul(eigvalpow_half,UT)\r\n",
        "print(whiteMat)\r\n",
        "\r\n",
        "whiteHeight = np.zeros(height.shape)\r\n",
        "whiteWeight = np.zeros(height.shape)\r\n",
        "\r\n",
        "for i in range(height.shape[0]):\r\n",
        "  whiteHeight[i] = (whiteMat[0][0] * height[i]) + (whiteMat[0][1] * weight[i]) \r\n",
        "  whiteWeight[i] = (whiteMat[1][0] * height[i]) + (whiteMat[1][1] * weight[i]) \r\n",
        "\r\n",
        "print(whiteHeight) # testing if everything works fine till now or not"
      ],
      "execution_count": null,
      "outputs": [
        {
          "output_type": "stream",
          "text": [
            "[[-0.3621097   0.01653714]\n",
            " [-0.00140668 -0.03080171]]\n",
            "[-22.19420783 -25.13386772 -23.22921825 -22.81578987 -23.67401362\n",
            " -23.19614397 -22.98286849 -23.42595659 -22.65041852 -23.14653257\n",
            " -23.85080028 -21.05656006 -23.18931487 -22.39094618 -23.49039786\n",
            " -21.48140375 -23.81943328 -23.70538061 -22.59909983 -23.4373719\n",
            " -25.10250072 -21.80361007 -22.12293747 -22.20733042 -22.51641416\n",
            " -22.28830882 -23.12828816 -21.50135543 -22.39094618 -21.86346513\n",
            " -21.79390204 -23.26229252 -22.58597725 -22.29972413 -22.16571977\n",
            " -25.62998177 -22.81578987 -24.36686602 -22.76788574 -24.0988573\n",
            " -21.94615081 -22.42231317 -22.17425615 -22.34933553 -23.95173036\n",
            " -21.10617147 -23.70538061 -23.81943328 -23.06213962 -23.78806629\n",
            " -23.65406193 -24.18154298 -21.89483213 -23.42595659 -22.832327\n",
            " -21.41866976 -23.83084859 -22.86710855 -23.47727527 -23.42595659\n",
            " -22.42231317 -23.87075196 -23.78806629 -23.03077262 -23.04389521\n",
            " -22.0088848  -24.460967   -22.76617846 -23.70538061 -25.8780388\n",
            " -24.51228568 -22.89847554 -22.28830882]\n"
          ],
          "name": "stdout"
        }
      ]
    },
    {
      "cell_type": "markdown",
      "metadata": {
        "id": "ZAPjxtn_2RIf"
      },
      "source": [
        "Our whitened data is ready in white_male_data"
      ]
    },
    {
      "cell_type": "code",
      "metadata": {
        "colab": {
          "base_uri": "https://localhost:8080/"
        },
        "id": "ycDz1yPLgTaC",
        "outputId": "42cb4856-c848-4f0f-c197-25bf1d9e2cd8"
      },
      "source": [
        "white_male_data = np.array([whiteHeight,whiteWeight]).T\r\n",
        "print(white_male_data)"
      ],
      "execution_count": null,
      "outputs": [
        {
          "output_type": "stream",
          "text": [
            "[[-22.19420783  -3.94446151]\n",
            " [-25.13386772  -6.5794872 ]\n",
            " [-23.22921825  -4.72013103]\n",
            " [-22.81578987  -5.49017384]\n",
            " [-23.67401362  -4.56752915]\n",
            " [-23.19614397  -4.78173446]\n",
            " [-22.98286849  -4.50311237]\n",
            " [-23.42595659  -5.02955484]\n",
            " [-22.65041852  -5.79819096]\n",
            " [-23.14653257  -4.8741396 ]\n",
            " [-23.85080028  -6.26584336]\n",
            " [-21.05656006  -4.71169096]\n",
            " [-23.18931487  -7.49791185]\n",
            " [-22.39094618  -4.25388531]\n",
            " [-23.49039786  -5.58539233]\n",
            " [-21.48140375  -5.94797949]\n",
            " [-23.81943328  -5.64840244]\n",
            " [-23.70538061  -5.18497008]\n",
            " [-22.59909983  -6.56964045]\n",
            " [-23.4373719   -7.03588617]\n",
            " [-25.10250072  -5.96204628]\n",
            " [-21.80361007  -8.72716698]\n",
            " [-22.12293747  -6.10480141]\n",
            " [-22.20733042  -5.2717485 ]\n",
            " [-22.51641416  -6.72364901]\n",
            " [-22.28830882  -5.79678428]\n",
            " [-23.12828816  -5.58398566]\n",
            " [-21.50135543  -4.55908908]\n",
            " [-22.39094618  -4.25388531]\n",
            " [-21.86346513  -4.56049576]\n",
            " [-21.79390204  -6.0417913 ]\n",
            " [-23.26229252  -4.65852761]\n",
            " [-22.58597725  -5.24235346]\n",
            " [-22.29972413  -7.80311561]\n",
            " [-22.16571977  -8.72857366]\n",
            " [-25.62998177  -5.65543583]\n",
            " [-22.81578987  -5.49017384]\n",
            " [-24.36686602  -3.95290159]\n",
            " [-22.76788574  -4.90353463]\n",
            " [-24.0988573   -5.80381768]\n",
            " [-21.94615081  -4.4064872 ]\n",
            " [-22.42231317  -4.87132624]\n",
            " [-22.17425615  -5.33335192]\n",
            " [-22.34933553  -7.71071048]\n",
            " [-23.95173036  -5.40198874]\n",
            " [-21.10617147  -4.61928582]\n",
            " [-23.70538061  -5.18497008]\n",
            " [-23.81943328  -5.64840244]\n",
            " [-23.06213962  -5.7071925 ]\n",
            " [-23.78806629  -5.03096151]\n",
            " [-23.65406193  -5.95641956]\n",
            " [-24.18154298  -5.64980912]\n",
            " [-21.89483213  -5.17793668]\n",
            " [-23.42595659  -5.02955484]\n",
            " [-22.832327    -5.45937213]\n",
            " [-21.41866976  -4.71309764]\n",
            " [-23.83084859  -7.65473377]\n",
            " [-22.86710855  -4.71872436]\n",
            " [-23.47727527  -4.25810535]\n",
            " [-23.42595659  -5.02955484]\n",
            " [-22.42231317  -4.87132624]\n",
            " [-23.87075196  -4.87695295]\n",
            " [-23.78806629  -5.03096151]\n",
            " [-23.03077262  -5.08975158]\n",
            " [-23.04389521  -6.41703856]\n",
            " [-22.0088848   -5.64136904]\n",
            " [-24.460967    -5.80522436]\n",
            " [-22.76617846  -5.58257898]\n",
            " [-23.70538061  -5.18497008]\n",
            " [-25.8780388   -5.19341015]\n",
            " [-24.51228568  -5.03377487]\n",
            " [-22.89847554  -5.33616528]\n",
            " [-22.28830882  -5.79678428]]\n"
          ],
          "name": "stdout"
        }
      ]
    },
    {
      "cell_type": "markdown",
      "metadata": {
        "id": "IOhMsLLx2Yyl"
      },
      "source": [
        "Finding the covariance matrix, inverse of the covariance matrix and the mean vector for our whitened data"
      ]
    },
    {
      "cell_type": "code",
      "metadata": {
        "colab": {
          "base_uri": "https://localhost:8080/"
        },
        "id": "detv913PhJR0",
        "outputId": "bd17b006-903c-4052-96af-8f3cd30dc18a"
      },
      "source": [
        "whiteCovMat = np.cov(white_male_data,rowvar = 0)\r\n",
        "print(whiteCovMat)"
      ],
      "execution_count": null,
      "outputs": [
        {
          "output_type": "stream",
          "text": [
            "[[ 1.00000000e+00 -5.01455923e-17]\n",
            " [-5.01455923e-17  1.00000000e+00]]\n"
          ],
          "name": "stdout"
        }
      ]
    },
    {
      "cell_type": "code",
      "metadata": {
        "colab": {
          "base_uri": "https://localhost:8080/"
        },
        "id": "KIvN6ZESiuXi",
        "outputId": "a22c2334-5b1c-4d98-d2be-160b5b398d45"
      },
      "source": [
        "whiteinverse= np.linalg.inv(whiteCovMat) \r\n",
        "whitemean1, whitemean2 = np.mean(white_male_data,axis=0)\r\n",
        "whitemeanmatrix=np.array([whitemean1,whitemean2]).T\r\n",
        "print(whiteinverse)\r\n",
        "print(whitemeanmatrix)"
      ],
      "execution_count": null,
      "outputs": [
        {
          "output_type": "stream",
          "text": [
            "[[1.00000000e+00 5.01455923e-17]\n",
            " [5.01455923e-17 1.00000000e+00]]\n",
            "[-23.04369527  -5.51008614]\n"
          ],
          "name": "stdout"
        }
      ]
    },
    {
      "cell_type": "markdown",
      "metadata": {
        "id": "jF18UVTB2i0M"
      },
      "source": [
        "## Plotting the whitened Data"
      ]
    },
    {
      "cell_type": "code",
      "metadata": {
        "colab": {
          "base_uri": "https://localhost:8080/"
        },
        "id": "f9Sl0aHViOJy",
        "outputId": "e88e9ac1-fee5-453f-f31b-0f6d5c86625e"
      },
      "source": [
        "x3 = np.linspace(-26,-20,100)  \r\n",
        "y3 = np.linspace(-9,-3,100) \r\n",
        "\r\n",
        "z3 = np.zeros(shape = (x3.shape[0],y3.shape[0])) \r\n",
        "\r\n",
        "for i in range (x3.shape[0]) :\r\n",
        "  for j in range (y3.shape[0]) : \r\n",
        "    z3[j][i] = Gaussian2d(x3[i],y3[j],whitemeanmatrix,whiteinverse,whiteCovMat) \r\n",
        "print(z3)"
      ],
      "execution_count": null,
      "outputs": [
        {
          "output_type": "stream",
          "text": [
            "[[4.56315958e-06 5.44854560e-06 6.48187002e-06 ... 5.04012170e-06\n",
            "  4.21425780e-06 3.51079904e-06]\n",
            " [5.62763148e-06 6.71955609e-06 7.99392945e-06 ... 6.21585703e-06\n",
            "  5.19733957e-06 4.32978134e-06]\n",
            " [6.91497221e-06 8.25667846e-06 9.82256927e-06 ... 7.63775644e-06\n",
            "  6.38624950e-06 5.32023423e-06]\n",
            " ...\n",
            " [1.16094572e-04 1.38620304e-04 1.64909842e-04 ... 1.28229302e-04\n",
            "  1.07217915e-04 8.93207224e-05]\n",
            " [1.00262159e-04 1.19715941e-04 1.42420239e-04 ... 1.10742014e-04\n",
            "  9.25960568e-05 7.71395967e-05]\n",
            " [8.62714271e-05 1.03010600e-04 1.22546706e-04 ... 9.52889077e-05\n",
            "  7.96750647e-05 6.63754221e-05]]\n"
          ],
          "name": "stdout"
        }
      ]
    },
    {
      "cell_type": "code",
      "metadata": {
        "colab": {
          "base_uri": "https://localhost:8080/",
          "height": 295
        },
        "id": "oOE7H2ZnjvDR",
        "outputId": "0f28d3fc-a1ff-42d8-8eb0-6b4d33808941"
      },
      "source": [
        "fig = plt.figure()\r\n",
        "plt.contour(x3,y3,z3)\r\n",
        "plt.scatter(whiteHeight,whiteWeight)\r\n",
        "plt.title(\"whitened data\") #title\r\n",
        "plt.xlabel(\"height after whitening\") #x label\r\n",
        "plt.ylabel(\"weight after whitening\") #y label\r\n",
        "for i in range(1,74):\r\n",
        " plt.annotate(i,(whiteHeight[i-1],whiteWeight[i-1]))\r\n",
        "plt.show()"
      ],
      "execution_count": null,
      "outputs": [
        {
          "output_type": "display_data",
          "data": {
            "image/png": "[encoded data removed]",
            "text/plain": [
              "<Figure size 432x288 with 1 Axes>"
            ]
          },
          "metadata": {
            "tags": [],
            "needs_background": "light"
          }
        }
      ]
    }
  ]
}
